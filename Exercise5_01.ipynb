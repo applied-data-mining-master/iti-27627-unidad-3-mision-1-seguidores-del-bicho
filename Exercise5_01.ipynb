{
  "nbformat": 4,
  "nbformat_minor": 0,
  "metadata": {
    "kernelspec": {
      "display_name": "Python 3",
      "language": "python",
      "name": "python3"
    },
    "language_info": {
      "codemirror_mode": {
        "name": "ipython",
        "version": 3
      },
      "file_extension": ".py",
      "mimetype": "text/x-python",
      "name": "python",
      "nbconvert_exporter": "python",
      "pygments_lexer": "ipython3",
      "version": "3.8.5"
    },
    "colab": {
      "name": "Exercise5_01.ipynb",
      "provenance": []
    }
  },
  "cells": [
    {
      "cell_type": "markdown",
      "metadata": {
        "id": "wZ4Se6OQmgAK"
      },
      "source": [
        "# Exercise 5.01: Implementing K-Means in scikit-learn\n",
        "\n",
        "In this exercise, we will be plotting a dataset in a two-dimensional plane and performing clustering on it using the k-means algorithm.\n",
        "\n",
        "The following steps will help you complete this exercise:"
      ]
    },
    {
      "cell_type": "markdown",
      "metadata": {
        "id": "S5zibvTHmgAT"
      },
      "source": [
        "1.- Create an artificial dataset as a NumPy array to demonstrate the k-means algorithm. Use following data:\n",
        "\n",
        "```\n",
        "[[1, 1], [1, 1.5], [2, 2], \\\n",
        " [8, 1], [8, 0], [8.5, 1], \\\n",
        " [6, 1], [1, 10], [1.5, 10], \\\n",
        " [1.5, 9.5], [10, 10], [1.5, 8.5]]\n",
        "```"
      ]
    },
    {
      "cell_type": "code",
      "metadata": {
        "id": "MKoSHt9DmgAU"
      },
      "source": [
        "import numpy as np\r\n",
        "\r\n",
        "data_points = np.array([\r\n",
        "    [1, 1], \r\n",
        "    [1, 1.5],\r\n",
        "    [2, 2],\r\n",
        "    [8, 1],\r\n",
        "    [8, 0],\r\n",
        "    [8.5, 1],\r\n",
        "    [6, 1],\r\n",
        "    [1, 10],\r\n",
        "    [1.5, 10],\r\n",
        "    [1.5, 9.5],\r\n",
        "    [10, 10],\r\n",
        "    [1.5, 8.5]\r\n",
        "])"
      ],
      "execution_count": 3,
      "outputs": []
    },
    {
      "cell_type": "markdown",
      "metadata": {
        "id": "S72LiHWwmgAV"
      },
      "source": [
        "2.- Plot these data points in the two-dimensional plane using `matplotlib.pyplot`.\n",
        "\n",
        "Output:\n",
        "\n",
        "![Figure 5.4](img/fig5_04.jpg)\n",
        "\n",
        "  > **Hint**  \n",
        "  > Use the `transpose` array method to get the values of the first feature and the second feature. We could also use proper array indexing to access these columns: `dataPoints[:,0]`, which is equivalent to `dataPoints.transpose()[0]`."
      ]
    },
    {
      "cell_type": "code",
      "metadata": {
        "colab": {
          "base_uri": "https://localhost:8080/",
          "height": 282
        },
        "id": "um2KZJCUmgAW",
        "outputId": "de3b9692-1605-42b6-e295-a2bce0a533b4"
      },
      "source": [
        "import matplotlib.pyplot as plot\r\n",
        "\r\n",
        "plot.scatter(data_points.transpose()[0], data_points.transpose()[1])"
      ],
      "execution_count": 2,
      "outputs": [
        {
          "output_type": "execute_result",
          "data": {
            "text/plain": [
              "<matplotlib.collections.PathCollection at 0x7f3375f28ed0>"
            ]
          },
          "metadata": {
            "tags": []
          },
          "execution_count": 2
        },
        {
          "output_type": "display_data",
          "data": {
            "image/png": "[encoded data removed]",
            "text/plain": [
              "<Figure size 432x288 with 1 Axes>"
            ]
          },
          "metadata": {
            "tags": [],
            "needs_background": "light"
          }
        }
      ]
    },
    {
      "cell_type": "markdown",
      "metadata": {
        "id": "_WzFpDCImgAW"
      },
      "source": [
        "3.- Define `k=3` in the k-means algorithm. We expect a cluster in the bottom-left, top-left, and bottom-right corners of the graph. \n",
        "\n",
        "  > **Hint**  \n",
        "  > Add `random_state = 8` in order to reproduce the same results"
      ]
    },
    {
      "cell_type": "code",
      "metadata": {
        "colab": {
          "base_uri": "https://localhost:8080/"
        },
        "id": "H1NIFeWOmgAW",
        "outputId": "8a1cc73e-03e0-4379-cb8c-aea8eaf79e94"
      },
      "source": [
        "from sklearn.cluster import KMeans\r\n",
        "\r\n",
        "k_means_model = KMeans(n_clusters=3,random_state=8)\r\n",
        "k_means_model.fit(data_points)"
      ],
      "execution_count": 4,
      "outputs": [
        {
          "output_type": "execute_result",
          "data": {
            "text/plain": [
              "KMeans(algorithm='auto', copy_x=True, init='k-means++', max_iter=300,\n",
              "       n_clusters=3, n_init=10, n_jobs=None, precompute_distances='auto',\n",
              "       random_state=8, tol=0.0001, verbose=0)"
            ]
          },
          "metadata": {
            "tags": []
          },
          "execution_count": 4
        }
      ]
    },
    {
      "cell_type": "markdown",
      "metadata": {
        "id": "AqGTmw2UmgAX"
      },
      "source": [
        "4.- Once the clustering is done, access the center point of each cluster.\n",
        "\n",
        "  > **Hint**  \n",
        "  > Use the `.cluster_centers_` attribute\n",
        "  \n",
        "Output:\n",
        "\n",
        "```\n",
        "array([[7.625     , 0.75      ],\n",
        "       [3.1       , 9.6       ],\n",
        "       [1.33333333, 1.5       ]])\n",
        "```"
      ]
    },
    {
      "cell_type": "code",
      "metadata": {
        "colab": {
          "base_uri": "https://localhost:8080/"
        },
        "id": "6CCpIHAEmgAX",
        "outputId": "afbad436-66ac-4252-f11f-40374ae38ea5"
      },
      "source": [
        "centers = k_means_model.cluster_centers_\r\n",
        "centers"
      ],
      "execution_count": 5,
      "outputs": [
        {
          "output_type": "execute_result",
          "data": {
            "text/plain": [
              "array([[7.625     , 0.75      ],\n",
              "       [3.1       , 9.6       ],\n",
              "       [1.33333333, 1.5       ]])"
            ]
          },
          "metadata": {
            "tags": []
          },
          "execution_count": 5
        }
      ]
    },
    {
      "cell_type": "markdown",
      "metadata": {
        "id": "HnVPgrgVmgAY"
      },
      "source": [
        "This output is showing the coordinates of the center of our three clusters. If you look back at Figure 5.4, you will see that the center points of the clusters appear to be in the bottom-left, $(1.3, 1.5)$, the top-left $(3.1, 9.6)$, and the bottom-right $(7.265, 0.75)$ corners of the graph. The x coordinate of the top-left cluster is $3.1$, most likely because it contains our outlier data point at $[10, 10]$."
      ]
    },
    {
      "cell_type": "markdown",
      "metadata": {
        "id": "W8uQFprFmgAY"
      },
      "source": [
        "5.- Find out which data point belongs to which cluster, we must query the `labels_` property of the k-means classifier.\n",
        "\n",
        "Output:\n",
        "\n",
        "```\n",
        "array([2, 2, 2, 0, 0, 0, 0, 1, 1, 1, 1, 1], dtype=int32)\n",
        "```"
      ]
    },
    {
      "cell_type": "code",
      "metadata": {
        "colab": {
          "base_uri": "https://localhost:8080/"
        },
        "id": "b1qPJdbUmgAZ",
        "outputId": "9fff40b3-abbc-4a28-90cb-455b66de5da2"
      },
      "source": [
        "labels = k_means_model.labels_\r\n",
        "labels"
      ],
      "execution_count": 6,
      "outputs": [
        {
          "output_type": "execute_result",
          "data": {
            "text/plain": [
              "array([2, 2, 2, 0, 0, 0, 0, 1, 1, 1, 1, 1], dtype=int32)"
            ]
          },
          "metadata": {
            "tags": []
          },
          "execution_count": 6
        }
      ]
    },
    {
      "cell_type": "markdown",
      "metadata": {
        "id": "JgUio7ABmgAZ"
      },
      "source": [
        "6.- Plot the data.\n",
        "\n",
        "Output:\n",
        "\n",
        "![Figure 5.5](img/fig5_05.jpg)"
      ]
    },
    {
      "cell_type": "code",
      "metadata": {
        "colab": {
          "base_uri": "https://localhost:8080/",
          "height": 265
        },
        "id": "99sSh8V-mgAa",
        "outputId": "cb791aae-de51-4629-f7aa-fa3dfd1ffd2c"
      },
      "source": [
        "plot.scatter(\r\n",
        "    centers[:,0], \r\n",
        "    centers[:,1]\r\n",
        ")\r\n",
        "\r\n",
        "for i in range(len(data_points)): \r\n",
        "    plot.plot( \r\n",
        "        data_points[i][0], \r\n",
        "        data_points[i][1], \r\n",
        "        ['k+','kx','k_'][labels[i]]  \r\n",
        "    )\r\n",
        "\r\n",
        "plot.show()"
      ],
      "execution_count": 7,
      "outputs": [
        {
          "output_type": "display_data",
          "data": {
            "image/png": "[encoded data removed]",
            "text/plain": [
              "<Figure size 432x288 with 1 Axes>"
            ]
          },
          "metadata": {
            "tags": [],
            "needs_background": "light"
          }
        }
      ]
    },
    {
      "cell_type": "markdown",
      "metadata": {
        "id": "wjewMmpjmgAa"
      },
      "source": [
        "we used the matplotlib library to plot the data points with the center of each coordinate. Each cluster has its marker (x, +, and -), and its center is represented by a filled circle."
      ]
    },
    {
      "cell_type": "markdown",
      "metadata": {
        "id": "g3mEUcTgmgAa"
      },
      "source": [
        "7.-  Reuse the same code and choose only two clusters instead of three.\n",
        "\n",
        "Output:\n",
        "\n",
        "![Figure 5.6](img/fig5_06.jpg)"
      ]
    },
    {
      "cell_type": "code",
      "metadata": {
        "colab": {
          "base_uri": "https://localhost:8080/",
          "height": 265
        },
        "id": "DCxu9xs2mgAb",
        "outputId": "e0e6ea30-e79c-444f-b184-ed43440cc804"
      },
      "source": [
        "k_means_model = KMeans(n_clusters=2,random_state=8)\r\n",
        "k_means_model.fit(data_points)\r\n",
        "centers2 = k_means_model.cluster_centers_\r\n",
        "labels2 = k_means_model.labels_\r\n",
        "plot.scatter(\r\n",
        "    centers2[:,0], \r\n",
        "    centers2[:,1]\r\n",
        ")\r\n",
        "\r\n",
        "\r\n",
        "for i in range(len(data_points)): \r\n",
        "    plot.plot( \r\n",
        "        data_points[i][0], \r\n",
        "        data_points[i][1], \r\n",
        "        ['k+','kx'][labels2[i]]  \r\n",
        "    )\r\n",
        "\r\n",
        "\r\n",
        "plot.show()"
      ],
      "execution_count": 8,
      "outputs": [
        {
          "output_type": "display_data",
          "data": {
            "image/png": "[encoded data removed]",
            "text/plain": [
              "<Figure size 432x288 with 1 Axes>"
            ]
          },
          "metadata": {
            "tags": [],
            "needs_background": "light"
          }
        }
      ]
    },
    {
      "cell_type": "markdown",
      "metadata": {
        "id": "S64MUxgNmgAb"
      },
      "source": [
        "This time, we only have x and + points, and we can clearly see a bottom cluster and a top cluster. Interestingly, the top cluster in the second try contains the same points as the top cluster in the first try. The bottom cluster of the second try consists of the data points joining the bottom-left and the bottom-right clusters of the first try."
      ]
    },
    {
      "cell_type": "markdown",
      "metadata": {
        "id": "6C_OHmofmgAb"
      },
      "source": [
        "8.- Use the k-means model to predict the label of new data points $[[5, 5], [0, 10]]$. The output will be an array containing the cluster numbers belonging to each data point.\n",
        "\n",
        "Output\n",
        "\n",
        "```\n",
        "array([0, 1], dtype=int32)\n",
        "```"
      ]
    },
    {
      "cell_type": "code",
      "metadata": {
        "colab": {
          "base_uri": "https://localhost:8080/"
        },
        "id": "2k8ZTtk_mgAc",
        "outputId": "598fd888-ae90-4566-b87c-c6c35a13e38b"
      },
      "source": [
        "predictions = k_means_model.predict([[5,5],[0,10]])\r\n",
        "predictions"
      ],
      "execution_count": 9,
      "outputs": [
        {
          "output_type": "execute_result",
          "data": {
            "text/plain": [
              "array([0, 1], dtype=int32)"
            ]
          },
          "metadata": {
            "tags": []
          },
          "execution_count": 9
        }
      ]
    },
    {
      "cell_type": "markdown",
      "metadata": {
        "id": "So3IEbyZmgAc"
      },
      "source": [
        "This means that our first point belongs to the first cluster (at the bottom) and the second point belongs to the second cluster (at the top)."
      ]
    }
  ]
}