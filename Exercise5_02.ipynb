{
  "nbformat": 4,
  "nbformat_minor": 0,
  "metadata": {
    "kernelspec": {
      "display_name": "Python 3",
      "language": "python",
      "name": "python3"
    },
    "language_info": {
      "codemirror_mode": {
        "name": "ipython",
        "version": 3
      },
      "file_extension": ".py",
      "mimetype": "text/x-python",
      "name": "python",
      "nbconvert_exporter": "python",
      "pygments_lexer": "ipython3",
      "version": "3.8.5"
    },
    "colab": {
      "name": "Exercise5_02.ipynb",
      "provenance": []
    }
  },
  "cells": [
    {
      "cell_type": "markdown",
      "metadata": {
        "id": "2VRI78cmox-I"
      },
      "source": [
        "# Exercise 5.02: Retrieving the Center Points and the Labels\n",
        "\n",
        "In this exercise, you will be able to understand the usage of `cluster_centers_` and `labels_`.\n",
        "\n",
        "The following steps will help you complete the exercise:"
      ]
    },
    {
      "cell_type": "markdown",
      "metadata": {
        "id": "ei2Gdu_9ox-M"
      },
      "source": [
        "1.- Create the same 12 data points from Exercise 5.01,  but here, perform k-means clustering with four clusters, then show the cluster centers using the `.cluster_centers_` attribute.\n",
        "\n",
        "Output:\n",
        "\n",
        "```\n",
        "array([[ 7.625     ,  0.75      ],\n",
        "       [ 1.375     ,  9.5       ],\n",
        "       [ 1.33333333,  1.5       ],\n",
        "       [10.        , 10.        ]])\n",
        "```"
      ]
    },
    {
      "cell_type": "code",
      "metadata": {
        "colab": {
          "base_uri": "https://localhost:8080/"
        },
        "id": "So1K5YpKox-N",
        "outputId": "1ee3e7a7-05b3-4390-d4fc-b2b68999167c"
      },
      "source": [
        "import numpy as np\r\n",
        "import matplotlib.pyplot as plot\r\n",
        "from sklearn.cluster import KMeans\r\n",
        "\r\n",
        "data_points = np.array([\r\n",
        "    [1, 1], \r\n",
        "    [1, 1.5],\r\n",
        "    [2, 2],\r\n",
        "    [8, 1],\r\n",
        "    [8, 0],\r\n",
        "    [8.5, 1],\r\n",
        "    [6, 1],\r\n",
        "    [1, 10],\r\n",
        "    [1.5, 10],\r\n",
        "    [1.5, 9.5],\r\n",
        "    [10, 10],\r\n",
        "    [1.5, 8.5]\r\n",
        "])\r\n",
        "\r\n",
        "k_means_model = KMeans(n_clusters=4,random_state=8)\r\n",
        "k_means_model.fit(data_points)\r\n",
        "\r\n",
        "centers = k_means_model.cluster_centers_\r\n",
        "centers"
      ],
      "execution_count": 2,
      "outputs": [
        {
          "output_type": "execute_result",
          "data": {
            "text/plain": [
              "array([[ 7.625     ,  0.75      ],\n",
              "       [ 1.375     ,  9.5       ],\n",
              "       [ 1.33333333,  1.5       ],\n",
              "       [10.        , 10.        ]])"
            ]
          },
          "metadata": {
            "tags": []
          },
          "execution_count": 2
        }
      ]
    },
    {
      "cell_type": "markdown",
      "metadata": {
        "id": "chYBTqh5ox-O"
      },
      "source": [
        "The output of the `cluster_centers_` property shows the x and y coordinates of the center points.\n",
        "\n",
        "From the output, we can see the 4 centers, which are bottom right $(7.6, 0.75)$, top left $(1.3, 9.5)$, bottom left $(1.3, 1.5)$, and top right $(10, 10)$. We can also note that the fourth cluster (the top-right cluster) is only made of a single data point. This data point can be assumed to be an **outlier**."
      ]
    },
    {
      "cell_type": "markdown",
      "metadata": {
        "id": "SQxTc6lIox-O"
      },
      "source": [
        "2.- Get the labels using `.labels_`:\n",
        "\n",
        "Output\n",
        "\n",
        "```\n",
        "array([2, 2, 2, 0, 0, 0, 0, 1, 1, 1, 3, 1], dtype=int32)\n",
        "```"
      ]
    },
    {
      "cell_type": "code",
      "metadata": {
        "colab": {
          "base_uri": "https://localhost:8080/"
        },
        "id": "ZEoT2hIKox-P",
        "outputId": "794a5966-1223-4785-bd45-00106882fc31"
      },
      "source": [
        "labels = k_means_model.labels_\r\n",
        "labels"
      ],
      "execution_count": 3,
      "outputs": [
        {
          "output_type": "execute_result",
          "data": {
            "text/plain": [
              "array([2, 2, 2, 0, 0, 0, 0, 1, 1, 1, 3, 1], dtype=int32)"
            ]
          },
          "metadata": {
            "tags": []
          },
          "execution_count": 3
        }
      ]
    },
    {
      "cell_type": "markdown",
      "metadata": {
        "id": "L4mT5IWWox-P"
      },
      "source": [
        "The `labels_` property is an array of length 12, showing the cluster of each of the 12 data points it belongs to. The first cluster is associated with the number 0, the second is associated with 1, the third is associated with 2, and so on (remember that Python indexes always start from 0 and not 1)."
      ]
    }
  ]
}